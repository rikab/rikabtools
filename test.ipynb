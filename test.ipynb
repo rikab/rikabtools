{
 "cells": [
  {
   "cell_type": "code",
   "execution_count": null,
   "metadata": {},
   "outputs": [],
   "source": [
    "import matplotlib.pyplot as plt\n",
    "import numpy as np\n",
    "\n",
    "from rikabtools.plot_utils import cmaps"
   ]
  },
  {
   "cell_type": "code",
   "execution_count": null,
   "metadata": {},
   "outputs": [],
   "source": [
    "colors = [\"red\", \"yellow\", \"green\", \"cyan\", \"blue\", \"magenta\"]\n",
    "\n",
    "for color in colors:\n",
    "\n",
    "    fig, ax = plt.subplots(figsize=(8, 8))\n",
    "\n",
    "    for i in np.linspace(0, 1):\n",
    "    # Plot 50 lines, from y = 0 to y = 1, taking a corresponding value from the cmap\n",
    "        ax.plot([-1, 1], [i, i], c=cmaps[color][i])\n",
    "        ax.title(color)"
   ]
  },
  {
   "cell_type": "code",
   "execution_count": null,
   "metadata": {},
   "outputs": [],
   "source": []
  }
 ],
 "metadata": {
  "kernelspec": {
   "display_name": "Python 3.8.3 ('base')",
   "language": "python",
   "name": "python3"
  },
  "language_info": {
   "codemirror_mode": {
    "name": "ipython",
    "version": 3
   },
   "file_extension": ".py",
   "mimetype": "text/x-python",
   "name": "python",
   "nbconvert_exporter": "python",
   "pygments_lexer": "ipython3",
   "version": "3.8.3"
  },
  "orig_nbformat": 4,
  "vscode": {
   "interpreter": {
    "hash": "0c189c3790ad0f879b11359947e0f24508572947ea4470e1374962daa7aecefe"
   }
  }
 },
 "nbformat": 4,
 "nbformat_minor": 2
}
